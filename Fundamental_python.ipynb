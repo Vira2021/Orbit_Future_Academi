{
  "nbformat": 4,
  "nbformat_minor": 0,
  "metadata": {
    "colab": {
      "name": "Fundamental python.ipynb",
      "provenance": [],
      "collapsed_sections": []
    },
    "kernelspec": {
      "name": "python3",
      "display_name": "Python 3"
    },
    "language_info": {
      "name": "python"
    }
  },
  "cells": [
    {
      "cell_type": "markdown",
      "metadata": {
        "id": "fVXtZc6jkTDh"
      },
      "source": [
        "## **A. Aturan Penulisan dalam Basic Phyton**\n",
        "1. Penulisan satu statement di dalam Python tidak diakhiri dengan tanda titik-koma\n",
        "2. Statement pada Pyhton dinyatakan dalam satu baris. Jadi akhir dari sebuah pernyataan adalah baris baru (new line).\n",
        "3. Jika ada pernyataan yang panjangnya terdiri lebih dari 1 baris, maka dapat dilakukan dengan menggunakan tanda backslash ().\n",
        "4. Statement yang ada di dalam atau diapit oleh tanda kurung seperti \"[],{},()\" tidak memerlukan tanda \"\".\n",
        "5. Python menggunakan tanda indentasi (spasi) sebagai penanda blok. Panjang spasi atau indentasi untuk setiap baris yang ada dalam satu blok kode harus sama. Bila spasi atau indentasi dalam satu grup kode tersebut tidak sama, python akan menamplikan sintaks error.\n",
        "6. Sebaga penanda string, Python menggunakan tanda kutip, baik tunggal ('), maupun ganda(\"). Tanda kutip tiga(\"\"\") digunakan untuk string multibaris.\n",
        "7. Bahasa Python bersifat case sensitif, yang berarti membedakan huruf besar dan huruf kecil (memiliki nilai yang berbeda).\n",
        "8. Untuk komentar di awali dengan tanda \"#\" yang artinya tidak diproses sebagai statement code.\n",
        "\n",
        "## **B. Python as Calculator (Numbers), Assignment, Comparison, Boolean, and Logic Operator**"
      ]
    },
    {
      "cell_type": "markdown",
      "metadata": {
        "id": "DHkFXQTU8Vg4"
      },
      "source": [
        "## **A. Aturan Penulisan dalam Basic Phyton**"
      ]
    },
    {
      "cell_type": "markdown",
      "metadata": {
        "id": "VA_Apq68mqw4"
      },
      "source": [
        "#### 1. Penulisan satu statement di dalam Python tidak diakhiri dengan tanda titik-koma"
      ]
    },
    {
      "cell_type": "code",
      "metadata": {
        "colab": {
          "base_uri": "https://localhost:8080/"
        },
        "id": "WtNneeZLkHlI",
        "outputId": "f4a2fc02-9f1a-4109-92e4-97eaf0be97ce"
      },
      "source": [
        "print(\"Halo Dunia!\") # Print : Mencetak\n",
        "print(\"panjang = 4\")\n",
        "print(\"lebar = 5\")\n",
        "print('saya suka belajar python')"
      ],
      "execution_count": null,
      "outputs": [
        {
          "output_type": "stream",
          "name": "stdout",
          "text": [
            "Halo Dunia!\n",
            "panjang = 4\n",
            "lebar = 5\n",
            "saya suka belajar python\n"
          ]
        }
      ]
    },
    {
      "cell_type": "markdown",
      "metadata": {
        "id": "kWwpvgu4m0XT"
      },
      "source": [
        "#### 2. Statement pada Pyhton dinyatakan dalam satu baris. Jadi akhir dari sebuah pernyataan adalah baris baru (new line)."
      ]
    },
    {
      "cell_type": "code",
      "metadata": {
        "id": "6gx5ymffmEl6"
      },
      "source": [
        "print(\"luas = panjang * lebar\")"
      ],
      "execution_count": null,
      "outputs": []
    },
    {
      "cell_type": "markdown",
      "metadata": {
        "id": "Y6xijlOenRaI"
      },
      "source": [
        "#### 3. Jika ada pernyataan yang panjangnya terdiri lebih dari 1 baris, maka dapat dilakukan dengan menggunakan tanda backslash ( \\ ) ."
      ]
    },
    {
      "cell_type": "code",
      "metadata": {
        "id": "qU1gYGqJnUKN"
      },
      "source": [
        "print(\"volume = panjang * lebar *\\\n",
        "tinggi\")"
      ],
      "execution_count": null,
      "outputs": []
    },
    {
      "cell_type": "markdown",
      "metadata": {
        "id": "3CSH_9WrngWq"
      },
      "source": [
        "#### 4. Statement yang ada di dalam atau diapit oleh tanda kurung seperti \"[],{},()\" tidak memerlukan tanda \"\""
      ]
    },
    {
      "cell_type": "code",
      "metadata": {
        "id": "QoqBoWBcnf6Y"
      },
      "source": [
        "nama_hari = ['Senin','Selasa','Rabu','Kamis','Jumat','Sabtu','Minggu']\n",
        "print(nama_hari)"
      ],
      "execution_count": null,
      "outputs": []
    },
    {
      "cell_type": "markdown",
      "metadata": {
        "id": "1g3u09mUn8zX"
      },
      "source": [
        "#### 5. Python menggunakan tanda indentasi (spasi) sebagai penanda blok. Panjang spasi atau indentasi untuk setiap baris yang ada dalam satu blok kode harus sama. Bila spasi atau indentasi dalam satu grup kode tersebut tidak sama, python akan menamplikan sintaks error"
      ]
    },
    {
      "cell_type": "code",
      "metadata": {
        "colab": {
          "base_uri": "https://localhost:8080/"
        },
        "id": "Fb04qz_4oMFH",
        "outputId": "4b02ebc4-b9cd-4cae-9d4b-e6dd7d4b69e1"
      },
      "source": [
        "usia = 7\n",
        "if usia >= 7: # If : Untuk memeriksa jika kondisi benar/ salah\n",
        "  print(\"diterima masuk SD\")\n",
        "  print(\"dinyatakan lulus\")\n",
        "else: # Else : menentukan dari suatu kondisi yang diberikan\n",
        "    print(\"tidak diterima masuk SD\")\n",
        "    print(\"dinyatakan gagal\")"
      ],
      "execution_count": null,
      "outputs": [
        {
          "output_type": "stream",
          "name": "stdout",
          "text": [
            "diterima masuk SD\n",
            "dinyatakan lulus\n"
          ]
        }
      ]
    },
    {
      "cell_type": "markdown",
      "metadata": {
        "id": "8YgygWFFoqQY"
      },
      "source": [
        "#### 6.Sebagai penanda string, Python menggunakan tanda kutip, baik tunggal ('), maupun ganda(\"). Tanda kutip tiga(\"\"\") digunakan untuk string multibaris."
      ]
    },
    {
      "cell_type": "code",
      "metadata": {
        "colab": {
          "base_uri": "https://localhost:8080/"
        },
        "id": "-qpae3m7op5h",
        "outputId": "d9e5d250-783d-45d8-a183-f3cae3a54cf1"
      },
      "source": [
        "nama_depan = 'Clarisa' # Nama depan tidak boleh spasi / harus pakai(_)\n",
        "namalengkap = \"Clarisa Faradhita\"\n",
        "alinea = \"\"\"Berikut ini adalah alinea  \n",
        "yang terdiri dari beberapa baris\"\"\" # tanda (\"\"\") untuk menulis string yang panjang dalam beberpa baris \n",
        "print(nama_depan) \n",
        "print(namalengkap)\n",
        "print(alinea)"
      ],
      "execution_count": 2,
      "outputs": [
        {
          "output_type": "stream",
          "name": "stdout",
          "text": [
            "Clarisa\n",
            "Clarisa Faradhita\n",
            "Berikut ini adalah alinea\n",
            "yang terdiri dari beberapa baris\n"
          ]
        }
      ]
    },
    {
      "cell_type": "markdown",
      "metadata": {
        "id": "UsCPxXkdpiCe"
      },
      "source": [
        "#### 7.Bahasa Python bersifat case sensitif, yang berarti membedakan huruf besar dan huruf kecil (memiliki nilai yang berbeda)."
      ]
    },
    {
      "cell_type": "code",
      "metadata": {
        "colab": {
          "base_uri": "https://localhost:8080/"
        },
        "id": "-3AALEWKpb0_",
        "outputId": "c1491e0e-b359-463b-f14c-28e40f6341a2"
      },
      "source": [
        "#Contoh statement yang benar\n",
        "luas = 15*3\n",
        "print(luas)\n",
        "\n",
        "#Contoh statement yang salah\n",
        "luas = 15*3\n",
        "#print(luas)\n",
        "print(luas)\n"
      ],
      "execution_count": 3,
      "outputs": [
        {
          "output_type": "stream",
          "name": "stdout",
          "text": [
            "45\n",
            "45\n"
          ]
        }
      ]
    },
    {
      "cell_type": "markdown",
      "metadata": {
        "id": "1HszEcZIrLEH"
      },
      "source": [
        "#### 8. Untuk komentar di awali dengan tanda \"#\" yang artinya tidak diproses sebagai statement code."
      ]
    },
    {
      "cell_type": "code",
      "metadata": {
        "id": "LRlzdCUwrSw6"
      },
      "source": [
        "#Contoh\n",
        "#perintah untuk menghitung luas\n",
        "panjang = 15\n",
        "lebar = 3\n",
        "luas = (panjang*lebar)\n",
        "print(luas)"
      ],
      "execution_count": null,
      "outputs": []
    },
    {
      "cell_type": "markdown",
      "metadata": {
        "id": "vjhQUJcm79nb"
      },
      "source": [
        "## **Python as Calculator (Numbers), Assignment, Comparison, Boolean, and Logic Operator**"
      ]
    },
    {
      "cell_type": "code",
      "metadata": {
        "colab": {
          "base_uri": "https://localhost:8080/"
        },
        "id": "16u04Ti07ylU",
        "outputId": "d68730c1-5230-472e-ef20-692475cecd16"
      },
      "source": [
        "# Contoh sederhana Boolean\n",
        "# false : untuk menampilkan nilai jika salah\n",
        "# True : untuk menampilkan jika benar\n",
        "nilai = 80\n",
        "nilai > 65 \n",
        "nilai < 65"
      ],
      "execution_count": 6,
      "outputs": [
        {
          "output_type": "execute_result",
          "data": {
            "text/plain": [
              "False"
            ]
          },
          "metadata": {},
          "execution_count": 6
        }
      ]
    },
    {
      "cell_type": "markdown",
      "metadata": {
        "id": "HCxljSgJBpwY"
      },
      "source": [
        "**a. Python Working in Strings and List**"
      ]
    },
    {
      "cell_type": "code",
      "metadata": {
        "colab": {
          "base_uri": "https://localhost:8080/"
        },
        "id": "W21y_wni9Np2",
        "outputId": "801999cd-dad6-49c9-839b-ece7fcba59d0"
      },
      "source": [
        "# String pendek\n",
        "# print('pendek')\n",
        "# print(\"pendek\")\n",
        "# print(\"don't\")\n",
        "\n",
        "#Tanda \\ (Menghilangkan pengaruh \"\")\n",
        "# \n",
        "print(\"halo, \\\"Saya\\\"\")\n",
        "\n",
        "# #String panjang\n",
        "#print('''\n",
        "#string\n",
        "#panjang\n",
        "#''')"
      ],
      "execution_count": 9,
      "outputs": [
        {
          "output_type": "stream",
          "name": "stdout",
          "text": [
            "halo, \"Saya\"\n"
          ]
        }
      ]
    },
    {
      "cell_type": "code",
      "metadata": {
        "colab": {
          "base_uri": "https://localhost:8080/"
        },
        "id": "nRX5QD6i9q_J",
        "outputId": "ca368116-0823-4df3-d92e-9d06e9ddbcbf"
      },
      "source": [
        "#Operator +\n",
        "# print(\"Py\" + \"thon\") # Fungsi (+) Untuk menggabungkan kata\n",
        "prefiks = \"di\\n\" # Fungsi (\\n) agar ada spasi kebawah\n",
        "dasar_1 = \"Bekasi\"\n",
        "dasar_2 = \"tolak\"\n",
        "print(prefiks + dasar_1)\n",
        "#print(prefiks, dasar_2)\n",
        "# print(\"Py\" \"thon\""
      ],
      "execution_count": 19,
      "outputs": [
        {
          "output_type": "stream",
          "name": "stdout",
          "text": [
            "di\n",
            "Bekasi\n"
          ]
        }
      ]
    },
    {
      "cell_type": "code",
      "metadata": {
        "colab": {
          "base_uri": "https://localhost:8080/"
        },
        "id": "YNePOLku-mVu",
        "outputId": "bc44f85d-7f7d-4c22-eb48-1b5b400e6ac8"
      },
      "source": [
        "#Tanda \\ dan r\n",
        "#Tanda \\ berguna sebagai penginterpretasi karakter spesial sedangkan r membuat string menjadi terbaca sebagai raw strings (apa adanya)\n",
        "print(\"ganti baris \\n ke bawah\")  # \\n turun satu baris\n",
        "#print(\"C:\\user\\folder\") # error\n",
        "print(r\"C:\\user\\folder\") # berhasil"
      ],
      "execution_count": 23,
      "outputs": [
        {
          "output_type": "stream",
          "name": "stdout",
          "text": [
            "ganti baris \n",
            " ke bawah\n",
            "C:\\user\\folder\n"
          ]
        }
      ]
    },
    {
      "cell_type": "code",
      "metadata": {
        "colab": {
          "base_uri": "https://localhost:8080/",
          "height": 35
        },
        "id": "OvJNW6fe_e0f",
        "outputId": "3739c497-bcdb-459c-c3aa-f8b4f08f71b6"
      },
      "source": [
        "# Cara menggunkan Indexed\n",
        "kata_sambutan = \"Happy\"\n",
        "kata_sambutan[1]  #\tindeks ke 0\n",
        "# kata_sambutan[:2] #\tindeks ke 0 sampai 2 – 1\n",
        "# kata_sambutan[1:2]  #\tindeks ke 1 sampai 2 – 1\n",
        "#kata_sambutan[1:]  #\tindeks ke 1 sampai terakhir\n",
        "# kata_sambutan[-2]  #\tindeks ke 1 dari belakang\n",
        "#kata_sambutan[0]  #\tindeks ke 0\n",
        "#kata_sambutan[:-3]#\tdari indeks ke 0 sampai -3 – 1"
      ],
      "execution_count": 30,
      "outputs": [
        {
          "output_type": "execute_result",
          "data": {
            "application/vnd.google.colaboratory.intrinsic+json": {
              "type": "string"
            },
            "text/plain": [
              "'a'"
            ]
          },
          "metadata": {},
          "execution_count": 30
        }
      ]
    },
    {
      "cell_type": "code",
      "metadata": {
        "colab": {
          "base_uri": "https://localhost:8080/",
          "height": 35
        },
        "id": "-XI7yff7AApT",
        "outputId": "fc57bf4e-29da-4580-f0c3-579e6ce9ee22"
      },
      "source": [
        "#Metode dalam penulisan\n",
        "#kata_sambutan.lower() #huruf kecil\n",
        "kata_sambutan.upper() #huruf besar"
      ],
      "execution_count": 32,
      "outputs": [
        {
          "output_type": "execute_result",
          "data": {
            "application/vnd.google.colaboratory.intrinsic+json": {
              "type": "string"
            },
            "text/plain": [
              "'HAPPY'"
            ]
          },
          "metadata": {},
          "execution_count": 32
        }
      ]
    },
    {
      "cell_type": "code",
      "metadata": {
        "colab": {
          "base_uri": "https://localhost:8080/"
        },
        "id": "xCeGMH1tASkx",
        "outputId": "26189f34-5ed7-4e52-d41d-8974dc707d9a"
      },
      "source": [
        "#Fungsi len dan operator in\n",
        "sambutan = kata_sambutan + \", Pak Febri. Ada yang bisa Elen bantu ?\"\n",
        "len(sambutan) #panjang karakter len\n",
        "#\"Elen\" in sambutan"
      ],
      "execution_count": 39,
      "outputs": [
        {
          "output_type": "execute_result",
          "data": {
            "text/plain": [
              "43"
            ]
          },
          "metadata": {},
          "execution_count": 39
        }
      ]
    },
    {
      "cell_type": "code",
      "metadata": {
        "colab": {
          "base_uri": "https://localhost:8080/"
        },
        "id": "V2MCnRrEAqvx",
        "outputId": "bdfc9b41-e5f9-46e6-bcbf-9803a5dbff87"
      },
      "source": [
        "print(len(kata_sambutan))"
      ],
      "execution_count": 40,
      "outputs": [
        {
          "output_type": "stream",
          "name": "stdout",
          "text": [
            "5\n"
          ]
        }
      ]
    },
    {
      "cell_type": "markdown",
      "metadata": {
        "id": "V2O-Cd8QBtkZ"
      },
      "source": [
        "**b. List**"
      ]
    },
    {
      "cell_type": "code",
      "metadata": {
        "colab": {
          "base_uri": "https://localhost:8080/"
        },
        "id": "cJzmxpFpBhgx",
        "outputId": "64ff403b-8b3b-4dbb-a035-1b45fbd8e6cd"
      },
      "source": [
        "#Create list\n",
        "akurasi = [0.6, 0.7, 0.8, 0.9]\n",
        "kredit = ['macet', 'lancar', 'macet']\n",
        "feature = [1,2,3,4]\n",
        "#container_1 = list() # container : untuk tempat / wadah\n",
        "#container_2 = []\n",
        "#type(container_1) # mengecek tipe\n",
        "print(akurasi)"
      ],
      "execution_count": 46,
      "outputs": [
        {
          "output_type": "stream",
          "name": "stdout",
          "text": [
            "[0.6, 0.7, 0.8, 0.9]\n"
          ]
        }
      ]
    },
    {
      "cell_type": "code",
      "metadata": {
        "colab": {
          "base_uri": "https://localhost:8080/"
        },
        "id": "Uo85Mn5cCjoN",
        "outputId": "5be290bb-774a-4692-d152-24d8d0053c58"
      },
      "source": [
        "#Concatenating (operator +)\n",
        "# concat = akurasi+feature\n",
        "# print(concat)\n",
        "cacah_1 = [1, 3, 5, 7, 9] + [2, 4, 6, 8]\n",
        "cacah_2 = [1, 4, 5] + ['baju','sepatu']\n",
        "print(cacah_2)\n",
        "#dua_list = [akurasi, feature]\n",
        "# campur = feature + kredit\n",
        "# isinstance(campur, list)"
      ],
      "execution_count": 56,
      "outputs": [
        {
          "output_type": "stream",
          "name": "stdout",
          "text": [
            "[1, 4, 5, 'baju', 'sepatu']\n"
          ]
        }
      ]
    },
    {
      "cell_type": "code",
      "metadata": {
        "colab": {
          "base_uri": "https://localhost:8080/"
        },
        "id": "Xa4x3q-pDrD3",
        "outputId": "82e79371-6936-4ba7-94b3-4008c34ab1cf"
      },
      "source": [
        "print(feature)\n",
        "print(kredit)"
      ],
      "execution_count": 58,
      "outputs": [
        {
          "output_type": "stream",
          "name": "stdout",
          "text": [
            "[1, 2, 3, 4]\n",
            "['macet', 'lancar', 'macet']\n"
          ]
        }
      ]
    },
    {
      "cell_type": "code",
      "metadata": {
        "colab": {
          "base_uri": "https://localhost:8080/"
        },
        "id": "iPut6BTDEBhy",
        "outputId": "57e3562b-d9b5-46bf-f9f5-5fa455e62974"
      },
      "source": [
        "#Indexed\n",
        "#feature[0]\n",
        "#feature[:3]\n",
        "#feature[1:]\n",
        "dua_list[0][2]"
      ],
      "execution_count": 63,
      "outputs": [
        {
          "output_type": "execute_result",
          "data": {
            "text/plain": [
              "0.8"
            ]
          },
          "metadata": {},
          "execution_count": 63
        }
      ]
    },
    {
      "cell_type": "code",
      "metadata": {
        "id": "wgOkeUtuD5l1"
      },
      "source": [
        "#Edited\n",
        "cacah_1[1] = 3\n",
        "cacah_2[1:4] = [9,9,9]"
      ],
      "execution_count": 64,
      "outputs": []
    },
    {
      "cell_type": "code",
      "metadata": {
        "colab": {
          "base_uri": "https://localhost:8080/"
        },
        "id": "1W5rqBUHEcKk",
        "outputId": "44ca2891-d7e6-49b2-a871-94aea2db7956"
      },
      "source": [
        "lakes = ['superior', 'erie', 'huron', 'ontario', 'powell']\n",
        "len(lakes) # jumlah kata"
      ],
      "execution_count": 65,
      "outputs": [
        {
          "output_type": "execute_result",
          "data": {
            "text/plain": [
              "5"
            ]
          },
          "metadata": {},
          "execution_count": 65
        }
      ]
    },
    {
      "cell_type": "code",
      "metadata": {
        "colab": {
          "base_uri": "https://localhost:8080/"
        },
        "id": "KUHISpvyEl6C",
        "outputId": "4f34b251-d7ee-4d6a-a1ba-6460cf29613e"
      },
      "source": [
        "numbers = [1, 2, 3, 4, 5, 8]\n",
        "sum(numbers) # SUM : Rata-rata\n",
        "#max(numbers) # Max : Maximal nilai\n",
        "#min(numbers) # Min : Minimal Nilai"
      ],
      "execution_count": 68,
      "outputs": [
        {
          "output_type": "execute_result",
          "data": {
            "text/plain": [
              "23"
            ]
          },
          "metadata": {},
          "execution_count": 68
        }
      ]
    },
    {
      "cell_type": "code",
      "metadata": {
        "colab": {
          "base_uri": "https://localhost:8080/"
        },
        "id": "Xm89Oaa9FBBZ",
        "outputId": "65ff72c7-5ca3-4471-f7c3-75ee04b4e3b3"
      },
      "source": [
        "print(lakes) "
      ],
      "execution_count": 69,
      "outputs": [
        {
          "output_type": "stream",
          "name": "stdout",
          "text": [
            "['superior', 'erie', 'huron', 'ontario', 'powell']\n"
          ]
        }
      ]
    },
    {
      "cell_type": "code",
      "metadata": {
        "colab": {
          "base_uri": "https://localhost:8080/"
        },
        "id": "3fVt4p9AFGPv",
        "outputId": "245c0ace-34af-42d9-f40b-c186433c4080"
      },
      "source": [
        "lakes_sorted_new = sorted(lakes) \n",
        "lakes_sorted_new # Sorted : mengurutkan huruf dari a-z"
      ],
      "execution_count": 74,
      "outputs": [
        {
          "output_type": "execute_result",
          "data": {
            "text/plain": [
              "['erie', 'huron', 'ontario', 'powell', 'superior']"
            ]
          },
          "metadata": {},
          "execution_count": 74
        }
      ]
    },
    {
      "cell_type": "code",
      "metadata": {
        "colab": {
          "base_uri": "https://localhost:8080/"
        },
        "id": "diHOIe2kFwgQ",
        "outputId": "c3c321da-7a65-4e20-fd7d-53ac6a59de0d"
      },
      "source": [
        "cities = [\"oslo\", \"delhi\", \"washington\", \"london\", \"seattle\", \"paris\", \"washington\"]\n",
        "cities.count('seattle')\n",
        "#cities.index('london')"
      ],
      "execution_count": 80,
      "outputs": [
        {
          "output_type": "execute_result",
          "data": {
            "text/plain": [
              "3"
            ]
          },
          "metadata": {},
          "execution_count": 80
        }
      ]
    },
    {
      "cell_type": "code",
      "metadata": {
        "colab": {
          "base_uri": "https://localhost:8080/"
        },
        "id": "QuQqVyoyGc9i",
        "outputId": "8a9fc88e-52dd-4dc5-93ca-4319519da044"
      },
      "source": [
        "cities.reverse() # Reverse : membalik kata washiton, paris dll\n",
        "cities"
      ],
      "execution_count": 81,
      "outputs": [
        {
          "output_type": "execute_result",
          "data": {
            "text/plain": [
              "['washington', 'paris', 'seattle', 'london', 'washington', 'delhi', 'oslo']"
            ]
          },
          "metadata": {},
          "execution_count": 81
        }
      ]
    },
    {
      "cell_type": "code",
      "metadata": {
        "colab": {
          "base_uri": "https://localhost:8080/"
        },
        "id": "VnZA4_NwGwxf",
        "outputId": "ef057167-8e56-4a01-bffd-2d541a205de6"
      },
      "source": [
        "cities.append('brussels') # Append : menambahkan kata (brussels)\n",
        "cities"
      ],
      "execution_count": 82,
      "outputs": [
        {
          "output_type": "execute_result",
          "data": {
            "text/plain": [
              "['washington',\n",
              " 'paris',\n",
              " 'seattle',\n",
              " 'london',\n",
              " 'washington',\n",
              " 'delhi',\n",
              " 'oslo',\n",
              " 'brussels']"
            ]
          },
          "metadata": {},
          "execution_count": 82
        }
      ]
    },
    {
      "cell_type": "code",
      "metadata": {
        "colab": {
          "base_uri": "https://localhost:8080/"
        },
        "id": "O0iyvvXYHF_4",
        "outputId": "038b4554-9cb4-4017-d023-94a365d7722b"
      },
      "source": [
        "cities.sort() # Sort : mengurutkan data dari a-z\n",
        "cities"
      ],
      "execution_count": 83,
      "outputs": [
        {
          "output_type": "execute_result",
          "data": {
            "text/plain": [
              "['brussels',\n",
              " 'delhi',\n",
              " 'london',\n",
              " 'oslo',\n",
              " 'paris',\n",
              " 'seattle',\n",
              " 'washington',\n",
              " 'washington']"
            ]
          },
          "metadata": {},
          "execution_count": 83
        }
      ]
    },
    {
      "cell_type": "code",
      "metadata": {
        "colab": {
          "base_uri": "https://localhost:8080/"
        },
        "id": "Xyb18O5mHYwx",
        "outputId": "a3e3e32f-b9c1-4f30-cc86-298571621d8b"
      },
      "source": [
        "cities.pop() # Pop : untuk menghapus elemen terakhir\n",
        "cities"
      ],
      "execution_count": 84,
      "outputs": [
        {
          "output_type": "execute_result",
          "data": {
            "text/plain": [
              "['brussels', 'delhi', 'london', 'oslo', 'paris', 'seattle', 'washington']"
            ]
          },
          "metadata": {},
          "execution_count": 84
        }
      ]
    },
    {
      "cell_type": "code",
      "metadata": {
        "colab": {
          "base_uri": "https://localhost:8080/"
        },
        "id": "W-atO6TxH8Nk",
        "outputId": "cd0e3dfe-3aaa-4833-ef1e-bd6ad3a428f3"
      },
      "source": [
        "more_cities = [\"brussels\", \"copenhagen\"]\n",
        "cities.extend(more_cities) # Extend : untuk menambahkan kata\n",
        "cities"
      ],
      "execution_count": 85,
      "outputs": [
        {
          "output_type": "execute_result",
          "data": {
            "text/plain": [
              "['brussels',\n",
              " 'delhi',\n",
              " 'london',\n",
              " 'oslo',\n",
              " 'paris',\n",
              " 'seattle',\n",
              " 'washington',\n",
              " 'brussels',\n",
              " 'copenhagen']"
            ]
          },
          "metadata": {},
          "execution_count": 85
        }
      ]
    },
    {
      "cell_type": "code",
      "metadata": {
        "colab": {
          "base_uri": "https://localhost:8080/"
        },
        "id": "lS252nSNIUPh",
        "outputId": "83151f5f-bd30-4695-957b-4a7927492b08"
      },
      "source": [
        "cities.remove(\"brussels\") # Remove : untuk menghapus elemen dari dlm suatu array\n",
        "cities"
      ],
      "execution_count": 87,
      "outputs": [
        {
          "output_type": "execute_result",
          "data": {
            "text/plain": [
              "['delhi', 'london', 'oslo', 'paris', 'seattle', 'washington', 'copenhagen']"
            ]
          },
          "metadata": {},
          "execution_count": 87
        }
      ]
    },
    {
      "cell_type": "markdown",
      "metadata": {
        "id": "NtnCGPxLJScY"
      },
      "source": [
        "## **THANKS YOU**"
      ]
    }
  ]
}