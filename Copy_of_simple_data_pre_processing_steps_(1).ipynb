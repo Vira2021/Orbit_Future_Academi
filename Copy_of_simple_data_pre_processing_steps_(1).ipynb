{
  "nbformat": 4,
  "nbformat_minor": 0,
  "metadata": {
    "kernelspec": {
      "display_name": "Python 3",
      "language": "python",
      "name": "python3"
    },
    "language_info": {
      "codemirror_mode": {
        "name": "ipython",
        "version": 3
      },
      "file_extension": ".py",
      "mimetype": "text/x-python",
      "name": "python",
      "nbconvert_exporter": "python",
      "pygments_lexer": "ipython3",
      "version": "3.7.6"
    },
    "colab": {
      "name": "Copy_of_simple_data_pre_processing_steps_(1).ipynb",
      "provenance": [],
      "include_colab_link": true
    }
  },
  "cells": [
    {
      "cell_type": "markdown",
      "metadata": {
        "id": "view-in-github",
        "colab_type": "text"
      },
      "source": [
        "<a href=\"https://colab.research.google.com/github/Vira2021/Orbit_Future_Academi/blob/main/Copy_of_simple_data_pre_processing_steps_(1).ipynb\" target=\"_parent\"><img src=\"https://colab.research.google.com/assets/colab-badge.svg\" alt=\"Open In Colab\"/></a>"
      ]
    },
    {
      "cell_type": "markdown",
      "metadata": {
        "_uuid": "674378297bf7f78937a4f1aa466932e68466efcd",
        "id": "o1pEmwLuDgTQ"
      },
      "source": [
        "### Data Pre-processing Stage\n",
        "\n",
        " \n",
        "  Pada notebook ini berisi tentang basic dalam data pre-processing\n"
      ]
    },
    {
      "cell_type": "markdown",
      "metadata": {
        "_uuid": "fe10f16ae89b1e2579469abba5542de59d18ca7d",
        "id": "ItKiP2zBDgTU"
      },
      "source": [
        "#### Why preprocessing ?\n",
        "1. Data yang kita punya dalam dunia nyata biasanya:\n",
        "    * Incomplete: lacking attribute values, lacking certain attributes of interest, or containing only aggregate data.\n",
        "    * Noisy: mengandung error seperti missing values dan outliers.\n",
        "    * Inconsistent: mengandung perbedaan dalam penulisan kolom."
      ]
    },
    {
      "cell_type": "markdown",
      "metadata": {
        "_uuid": "a30f7f7e2a855e2f0ef0bfc096bd4cc61a3399d9",
        "id": "BnXhobIxDgTU"
      },
      "source": [
        "Mari kita pakai sebuah dataset sederhana untuk latihan.\n",
        "Dataset \"data.csv\" mengandung informasi dimana apakah user akan membeli sebuah product atau tidak.\n",
        "User mempunya fitur age,salary, dan negara tempat mereka tinggal."
      ]
    },
    {
      "cell_type": "markdown",
      "metadata": {
        "id": "mWY0iY8qDgTV"
      },
      "source": [
        "## 1. Import library\n",
        "\n",
        "Pada percobaan kali ini kita hanya membutuhkan 2 library yaitu pandas dan numpy. Pandas berguna untuk mengimport datasetnya sedangkan numpy akan kita gunakan dalam mempreproses datanya."
      ]
    },
    {
      "cell_type": "code",
      "metadata": {
        "_uuid": "3ed37978d39bc4b4497ed16fd66a99a40df07561",
        "id": "e64-OQ9JDgTV"
      },
      "source": [
        "import numpy as np\n",
        "import pandas as pd"
      ],
      "execution_count": null,
      "outputs": []
    },
    {
      "cell_type": "markdown",
      "metadata": {
        "id": "mh8G1tLpDgTW"
      },
      "source": [
        "## 2 Import dataset"
      ]
    },
    {
      "cell_type": "code",
      "metadata": {
        "_uuid": "d09edc61b5ef258b23b6de01c4745613a4d00eca",
        "id": "HCpB1rqTDgTW",
        "colab": {
          "base_uri": "https://localhost:8080/"
        },
        "outputId": "276e8766-15f2-40c6-cf75-c875dba61be1"
      },
      "source": [
        "dataset = pd.read_csv(\"Data.csv\")\n",
        "\n",
        "\n",
        "# Menampilkan shape dari data yg kita punya\n",
        "print('dataset:', (str(dataset.shape)))\n"
      ],
      "execution_count": null,
      "outputs": [
        {
          "output_type": "stream",
          "name": "stdout",
          "text": [
            "dataset: (75, 4)\n"
          ]
        }
      ]
    },
    {
      "cell_type": "markdown",
      "metadata": {
        "_uuid": "f2255fd0287097870845b0b4dbfd4e4ac04ea9f9",
        "id": "-asPcgYlDgTX"
      },
      "source": [
        "Dataset kita mengandung 15 rows dan 4 columns.\n",
        "Itu artinya kita mempunyai 15 data dan 4 Kolom"
      ]
    },
    {
      "cell_type": "code",
      "metadata": {
        "_uuid": "2764bded9c4328f4ca9902a333d882b12d09223e",
        "id": "qVP9VitVDgTY",
        "colab": {
          "base_uri": "https://localhost:8080/",
          "height": 423
        },
        "outputId": "36fb5be8-51b9-42a1-9909-2494214bbfa1"
      },
      "source": [
        "#print the dataset\n",
        "dataset\n"
      ],
      "execution_count": null,
      "outputs": [
        {
          "output_type": "execute_result",
          "data": {
            "text/html": [
              "<div>\n",
              "<style scoped>\n",
              "    .dataframe tbody tr th:only-of-type {\n",
              "        vertical-align: middle;\n",
              "    }\n",
              "\n",
              "    .dataframe tbody tr th {\n",
              "        vertical-align: top;\n",
              "    }\n",
              "\n",
              "    .dataframe thead th {\n",
              "        text-align: right;\n",
              "    }\n",
              "</style>\n",
              "<table border=\"1\" class=\"dataframe\">\n",
              "  <thead>\n",
              "    <tr style=\"text-align: right;\">\n",
              "      <th></th>\n",
              "      <th>Country</th>\n",
              "      <th>Age</th>\n",
              "      <th>Salary</th>\n",
              "      <th>Purchased</th>\n",
              "    </tr>\n",
              "  </thead>\n",
              "  <tbody>\n",
              "    <tr>\n",
              "      <th>0</th>\n",
              "      <td>India</td>\n",
              "      <td>34</td>\n",
              "      <td>92000</td>\n",
              "      <td>Yes</td>\n",
              "    </tr>\n",
              "    <tr>\n",
              "      <th>1</th>\n",
              "      <td>Sri lanka</td>\n",
              "      <td>22</td>\n",
              "      <td>89700</td>\n",
              "      <td>Yes</td>\n",
              "    </tr>\n",
              "    <tr>\n",
              "      <th>2</th>\n",
              "      <td>China</td>\n",
              "      <td>31</td>\n",
              "      <td>74000</td>\n",
              "      <td>Yes</td>\n",
              "    </tr>\n",
              "    <tr>\n",
              "      <th>3</th>\n",
              "      <td>Sri lanka</td>\n",
              "      <td>29</td>\n",
              "      <td>78900</td>\n",
              "      <td>Yes</td>\n",
              "    </tr>\n",
              "    <tr>\n",
              "      <th>4</th>\n",
              "      <td>China</td>\n",
              "      <td>55</td>\n",
              "      <td>98000</td>\n",
              "      <td>Yes</td>\n",
              "    </tr>\n",
              "    <tr>\n",
              "      <th>...</th>\n",
              "      <td>...</td>\n",
              "      <td>...</td>\n",
              "      <td>...</td>\n",
              "      <td>...</td>\n",
              "    </tr>\n",
              "    <tr>\n",
              "      <th>70</th>\n",
              "      <td>Komoro</td>\n",
              "      <td>56</td>\n",
              "      <td>89065</td>\n",
              "      <td>Yes</td>\n",
              "    </tr>\n",
              "    <tr>\n",
              "      <th>71</th>\n",
              "      <td>Kosta</td>\n",
              "      <td>46</td>\n",
              "      <td>54329</td>\n",
              "      <td>No</td>\n",
              "    </tr>\n",
              "    <tr>\n",
              "      <th>72</th>\n",
              "      <td>Kroasia Kuba</td>\n",
              "      <td>65</td>\n",
              "      <td>54321</td>\n",
              "      <td>Yes</td>\n",
              "    </tr>\n",
              "    <tr>\n",
              "      <th>73</th>\n",
              "      <td>Lebanon</td>\n",
              "      <td>45</td>\n",
              "      <td>45670</td>\n",
              "      <td>No</td>\n",
              "    </tr>\n",
              "    <tr>\n",
              "      <th>74</th>\n",
              "      <td>Lesoto</td>\n",
              "      <td>49</td>\n",
              "      <td>76549</td>\n",
              "      <td>No</td>\n",
              "    </tr>\n",
              "  </tbody>\n",
              "</table>\n",
              "<p>75 rows × 4 columns</p>\n",
              "</div>"
            ],
            "text/plain": [
              "         Country  Age  Salary Purchased\n",
              "0          India   34   92000       Yes\n",
              "1      Sri lanka   22   89700       Yes\n",
              "2          China   31   74000       Yes\n",
              "3      Sri lanka   29   78900       Yes\n",
              "4          China   55   98000       Yes\n",
              "..           ...  ...     ...       ...\n",
              "70        Komoro   56   89065       Yes\n",
              "71         Kosta   46   54329        No\n",
              "72  Kroasia Kuba   65   54321       Yes\n",
              "73       Lebanon   45   45670        No\n",
              "74        Lesoto   49   76549        No\n",
              "\n",
              "[75 rows x 4 columns]"
            ]
          },
          "metadata": {},
          "execution_count": 11
        }
      ]
    },
    {
      "cell_type": "code",
      "metadata": {
        "_uuid": "0b51a61e0f0b243b1b3c5650a30dcf02d6f943a5",
        "id": "5MJA_pt3DgTY"
      },
      "source": [
        "# Memisahkan antara fitur dan label\n",
        "\n",
        "# Fitur\n",
        "# iloc[rows,columns] (Slicing pada dataframe)\n",
        "# Mengambil semua data dalam barisan.\n",
        "# Mengambil kolom index ke-0 sampai ke-2\n",
        "X = dataset.iloc[:,:3].values\n",
        "\n",
        "# Label\n",
        "# iloc[rows,columns] (Slicing pada dataframe)\n",
        "# Mengambil semua data dalam barisan.\n",
        "# Hanya Mengambil kolom index ke-3\n",
        "Y = dataset.iloc[:,3].values"
      ],
      "execution_count": null,
      "outputs": []
    },
    {
      "cell_type": "code",
      "metadata": {
        "_uuid": "5351fbd6905b93aad9c455ee99cb0814e55cfc58",
        "id": "J-J2ccnxDgTY",
        "colab": {
          "base_uri": "https://localhost:8080/"
        },
        "outputId": "def39126-c1eb-4337-c66b-0da45758478b"
      },
      "source": [
        "# Print the X and Y\n",
        "print ('Fitur (X):', X)\n",
        "print ('\\n-----------------------------------')\n",
        "print ('\\nLabel (Y): ',Y)"
      ],
      "execution_count": null,
      "outputs": [
        {
          "output_type": "stream",
          "name": "stdout",
          "text": [
            "Fitur (X): [['India' 34 92000]\n",
            " ['Sri lanka' 22 89700]\n",
            " ['China' 31 74000]\n",
            " ['Sri lanka' 29 78900]\n",
            " ['China' 55 98000]\n",
            " ['India' 24 56790]\n",
            " ['Sri lanka' 28 90790]\n",
            " ['India' 50 60000]\n",
            " ['China' 51 89000]\n",
            " ['India' 44 78000]\n",
            " ['Sri lanka' 21 98000]\n",
            " ['China' 25 98087]\n",
            " ['India' 33 45000]\n",
            " ['India' 42 65000]\n",
            " ['Sri lanka' 33 22000]\n",
            " ['India' 34 92000]\n",
            " ['Sri lanka' 22 25000]\n",
            " ['China' 31 74000]\n",
            " ['Sri lanka' 29 78900]\n",
            " ['India' 50 60000]\n",
            " ['China' 51 89000]\n",
            " ['India' 44 78000]\n",
            " ['Sri lanka' 21 87099]\n",
            " ['China' 25 30000]\n",
            " ['India' 33 45000]\n",
            " ['India' 42 65000]\n",
            " ['Sri lanka' 33 22000]\n",
            " ['Sri lanka' 29 78900]\n",
            " ['Jawa barat' 34 92000]\n",
            " ['Jawa Tengah' 22 90700]\n",
            " ['Jawa Timur' 31 74000]\n",
            " ['Bekasi' 29 78900]\n",
            " ['Australia' 55 98000]\n",
            " ['Singapura' 24 54000]\n",
            " ['Medan' 28 98000]\n",
            " ['Makasar' 50 60000]\n",
            " ['Arab saudi' 51 89000]\n",
            " ['Bahama' 44 78000]\n",
            " ['Austria' 21 56900]\n",
            " ['Barbandos' 25 89070]\n",
            " ['Belanda' 33 97800]\n",
            " ['Brasil' 42 65000]\n",
            " ['Korea' 33 98609]\n",
            " ['Belgia ' 34 92000]\n",
            " ['Belise' 22 96900]\n",
            " ['Bulgaria' 31 74000]\n",
            " ['Ceko' 29 78900]\n",
            " ['Chili' 50 60000]\n",
            " ['Ekuador' 51 89000]\n",
            " ['Filipina ' 44 78000]\n",
            " ['Finlandia' 21 87000]\n",
            " ['Fiji ' 25 67800]\n",
            " ['Gambia' 33 90800]\n",
            " ['Grenada' 42 65000]\n",
            " ['Gana' 33 98070]\n",
            " ['Guinea' 29 78900]\n",
            " ['Hauiti' 50 98708]\n",
            " ['Hungaria' 56 67890]\n",
            " ['Indonesia' 36 56789]\n",
            " ['Irlan ' 65 45678]\n",
            " ['Irlandia' 45 34690]\n",
            " ['Israel' 54 98754]\n",
            " ['Italia' 52 87543]\n",
            " ['Jamaika' 52 34567]\n",
            " ['Jepang' 53 24590]\n",
            " ['Kanada' 28 98706]\n",
            " ['Kamerun' 39 76548]\n",
            " ['Kamboja' 51 98743]\n",
            " ['Kenya' 54 97324]\n",
            " ['Kiribati' 53 56784]\n",
            " ['Komoro' 56 89065]\n",
            " ['Kosta' 46 54329]\n",
            " ['Kroasia Kuba' 65 54321]\n",
            " ['Lebanon' 45 45670]\n",
            " ['Lesoto' 49 76549]]\n",
            "\n",
            "-----------------------------------\n",
            "\n",
            "Label (Y):  ['Yes' 'Yes' 'Yes' 'Yes' 'Yes' 'Yes' 'Yes' 'Yes' 'Yes' 'Yes' 'Yes' 'Yes'\n",
            " 'Yes' 'Yes' 'Yes' 'Yes' 'Yes' 'Yes' 'No' 'No' 'Yes' 'Yes' 'Yes' 'Yes'\n",
            " 'Yes' 'Yes' 'Yes' 'Yes' 'Yes' 'Yes' 'Yes' 'Yes' 'Yes' 'Yes' 'Yes' 'Yes'\n",
            " 'Yes' 'Yes' 'Yes' 'Yes' 'Yes' 'Yes' 'No' 'Yes' 'Yes' 'Yes' 'Yes' 'Yes'\n",
            " 'Yes' 'Yes' 'No' 'Yes' 'Yes' 'Yes' 'Yes' 'No' 'Yes' 'Yes' 'Yes' 'Yes'\n",
            " 'Yes' 'Yes' 'Yes' 'Yes' 'Yes' 'Yes' 'Yes' 'Yes' 'Yes' 'No' 'Yes' 'No'\n",
            " 'Yes' 'No' 'No']\n"
          ]
        }
      ]
    },
    {
      "cell_type": "markdown",
      "metadata": {
        "_uuid": "dffee0eb70165f04561442a9f05bf2fd0c0d205f",
        "id": "olmPiAxzDgTZ"
      },
      "source": [
        "## 3. Handle Missing Data\n"
      ]
    },
    {
      "cell_type": "code",
      "metadata": {
        "id": "qP-IsG_vDgTZ",
        "colab": {
          "base_uri": "https://localhost:8080/"
        },
        "outputId": "128bddbd-f707-41cb-ea3e-69afe9a1801a"
      },
      "source": [
        "# isnull : berguna untuk memeriksa suatu kolom ada datanya atau tidak.\n",
        "dataset.isnull().sum()"
      ],
      "execution_count": null,
      "outputs": [
        {
          "output_type": "execute_result",
          "data": {
            "text/plain": [
              "Country      0\n",
              "Age          0\n",
              "Salary       0\n",
              "Purchased    0\n",
              "dtype: int64"
            ]
          },
          "metadata": {},
          "execution_count": 7
        }
      ]
    },
    {
      "cell_type": "markdown",
      "metadata": {
        "id": "Jc9q8TEuDgTa"
      },
      "source": [
        "Dengan menggunakan fungsi isnull().sum() kita dapat melihat jumlah data yg memiliki missing value dari tiap kolom yang ada.\n",
        "Disini kita dapat melihat kalau terdapat 2 kolom yang memiliki masalah missing value, yaitu pada kolom 'Age' dan 'Salary'.\n",
        "\n",
        "Untuk menangangi masalah missing value, kita bisa melakukan 2 hal. Pertama kita bisa menghapus datanya atau kita bisa mengisi nilai yang kosong itu menggunakan nilai mean/modus/median.\n",
        "\n",
        "Pada percobaan kali ini kita akan menggunakan nilai Mean untuk mengisi missing value tersebut menggunakan bantuan Simple Imputer dari module sklearn"
      ]
    },
    {
      "cell_type": "code",
      "metadata": {
        "_uuid": "bc0f9fc1fde9aff85963ee3db02f1fd943d01d93",
        "id": "PaW7D_1mDgTa"
      },
      "source": [
        "from sklearn.impute import SimpleImputer\n",
        "\n",
        "# SimpleImputer class mempunyai 2 parameter, yaitu :\n",
        "#     missing_values : Missing value pada data kita, biasanya diisi dengan np.nan\n",
        "#     strategy       : Strategi yang akan kita gunakan dalam menangani missing value (Mean/Modus/Median).\n",
        "#                      Defaultnya parameter strategy 'mean'\n",
        "\n",
        "imputer = SimpleImputer(missing_values = np.nan ,strategy = 'mean')\n",
        "\n",
        "\n",
        "# Fit imputer kedalam data X untuk kolom Age (index ke-1) dan Salary (index ke-2).\n",
        "imputer = imputer.fit(X[:,1:3])\n",
        "\n",
        "#Replace missing value dengan mean pada kolom tersebut\n",
        "X[:,1:3] = imputer.transform(X[:,1:3])\n"
      ],
      "execution_count": null,
      "outputs": []
    },
    {
      "cell_type": "markdown",
      "metadata": {
        "id": "CoWV_qg5DgTa"
      },
      "source": [
        "Dibawah ini kita bisa melihat bahwa tidak ada nilai 'Nan' pada data X"
      ]
    },
    {
      "cell_type": "code",
      "metadata": {
        "_uuid": "cbb90e1ca86164287023c7fc38197bf087e0ef0e",
        "id": "IDmF6eLtDgTb",
        "colab": {
          "base_uri": "https://localhost:8080/"
        },
        "outputId": "af638e53-dde3-4013-c305-12f66c3d971b"
      },
      "source": [
        "print ('X: ', X)"
      ],
      "execution_count": null,
      "outputs": [
        {
          "output_type": "stream",
          "name": "stdout",
          "text": [
            "X:  [['India' 34.0 92000.0]\n",
            " ['Sri lanka' 22.0 89700.0]\n",
            " ['China' 31.0 74000.0]\n",
            " ['Sri lanka' 29.0 78900.0]\n",
            " ['China' 55.0 98000.0]\n",
            " ['India' 24.0 56790.0]\n",
            " ['Sri lanka' 28.0 90790.0]\n",
            " ['India' 50.0 60000.0]\n",
            " ['China' 51.0 89000.0]\n",
            " ['India' 44.0 78000.0]\n",
            " ['Sri lanka' 21.0 98000.0]\n",
            " ['China' 25.0 98087.0]\n",
            " ['India' 33.0 45000.0]\n",
            " ['India' 42.0 65000.0]\n",
            " ['Sri lanka' 33.0 22000.0]\n",
            " ['India' 34.0 92000.0]\n",
            " ['Sri lanka' 22.0 25000.0]\n",
            " ['China' 31.0 74000.0]\n",
            " ['Sri lanka' 29.0 78900.0]\n",
            " ['India' 50.0 60000.0]\n",
            " ['China' 51.0 89000.0]\n",
            " ['India' 44.0 78000.0]\n",
            " ['Sri lanka' 21.0 87099.0]\n",
            " ['China' 25.0 30000.0]\n",
            " ['India' 33.0 45000.0]\n",
            " ['India' 42.0 65000.0]\n",
            " ['Sri lanka' 33.0 22000.0]\n",
            " ['Sri lanka' 29.0 78900.0]\n",
            " ['Jawa barat' 34.0 92000.0]\n",
            " ['Jawa Tengah' 22.0 90700.0]\n",
            " ['Jawa Timur' 31.0 74000.0]\n",
            " ['Bekasi' 29.0 78900.0]\n",
            " ['Australia' 55.0 98000.0]\n",
            " ['Singapura' 24.0 54000.0]\n",
            " ['Medan' 28.0 98000.0]\n",
            " ['Makasar' 50.0 60000.0]\n",
            " ['Arab saudi' 51.0 89000.0]\n",
            " ['Bahama' 44.0 78000.0]\n",
            " ['Austria' 21.0 56900.0]\n",
            " ['Barbandos' 25.0 89070.0]\n",
            " ['Belanda' 33.0 97800.0]\n",
            " ['Brasil' 42.0 65000.0]\n",
            " ['Korea' 33.0 98609.0]\n",
            " ['Belgia ' 34.0 92000.0]\n",
            " ['Belise' 22.0 96900.0]\n",
            " ['Bulgaria' 31.0 74000.0]\n",
            " ['Ceko' 29.0 78900.0]\n",
            " ['Chili' 50.0 60000.0]\n",
            " ['Ekuador' 51.0 89000.0]\n",
            " ['Filipina ' 44.0 78000.0]\n",
            " ['Finlandia' 21.0 87000.0]\n",
            " ['Fiji ' 25.0 67800.0]\n",
            " ['Gambia' 33.0 90800.0]\n",
            " ['Grenada' 42.0 65000.0]\n",
            " ['Gana' 33.0 98070.0]\n",
            " ['Guinea' 29.0 78900.0]\n",
            " ['Hauiti' 50.0 98708.0]\n",
            " ['Hungaria' 56.0 67890.0]\n",
            " ['Indonesia' 36.0 56789.0]\n",
            " ['Irlan ' 65.0 45678.0]\n",
            " ['Irlandia' 45.0 34690.0]\n",
            " ['Israel' 54.0 98754.0]\n",
            " ['Italia' 52.0 87543.0]\n",
            " ['Jamaika' 52.0 34567.0]\n",
            " ['Jepang' 53.0 24590.0]\n",
            " ['Kanada' 28.0 98706.0]\n",
            " ['Kamerun' 39.0 76548.0]\n",
            " ['Kamboja' 51.0 98743.0]\n",
            " ['Kenya' 54.0 97324.0]\n",
            " ['Kiribati' 53.0 56784.0]\n",
            " ['Komoro' 56.0 89065.0]\n",
            " ['Kosta' 46.0 54329.0]\n",
            " ['Kroasia Kuba' 65.0 54321.0]\n",
            " ['Lebanon' 45.0 45670.0]\n",
            " ['Lesoto' 49.0 76549.0]]\n"
          ]
        }
      ]
    },
    {
      "cell_type": "markdown",
      "metadata": {
        "_uuid": "e06044bf541de146377c72fe4f34eb83100c2f49",
        "id": "ORnR3bUIDgTb"
      },
      "source": [
        "* Mean Value of Age    = Sum of all age values /14   = 33.714285714285715\n",
        "* Mean Value of Salary = Sum of all Salary value /14 = 54857.142857142855"
      ]
    },
    {
      "cell_type": "markdown",
      "metadata": {
        "_uuid": "0504a7e75bde4ac7779062a37f144d9b9a096a17",
        "id": "MaBFY3Y0DgTb"
      },
      "source": [
        "## 3. Encode the Categorical data\n",
        "\n",
        "Categorical data biasanya biasanya memiliki tipe data string.\n",
        "Beberapa algoritma dapat memproses categorical data yg berbentuka string secara langsung seperti decision tree.\n",
        "\n",
        "Akan tetapi banyak machine learning algorithms tidak dapat memproses categorical data yg berbentuk string secara langsung. Mereka membutuhkan variabel yg berbentuk numeric.\n",
        "\n",
        "Itu artinya categorical data harus dikonversi bentukanya kedalam numerical form."
      ]
    },
    {
      "cell_type": "markdown",
      "metadata": {
        "_uuid": "a8261920df0d266e0551cdae8264a07c96cdd7f8",
        "id": "2hJ3lFwlDgTc"
      },
      "source": [
        "Pada Dataset kita terdapat dua kolom categorical data\n",
        "\n",
        "Yaitu kolom 'Country' dan 'Purchased'"
      ]
    },
    {
      "cell_type": "markdown",
      "metadata": {
        "_uuid": "28a61d344d1556bdac352ac69e2ed0eb0e9a0cbc",
        "id": "T0C3a2NWDgTc"
      },
      "source": [
        "#### Label Encoder: \n",
        "\n",
        "    * Metode ini bisa digunakan untuk mentranform non-numerical labels kedalam bentuk numerical labels (or nominal\n",
        "      categorical variables).\n",
        "    * Numerical labels akan selalu ada diantara 0 sampai n_classes-1. \n",
        "      Misalkan ada 3 kelas, berarti labelnya ada di 0, 1, dan 2."
      ]
    },
    {
      "cell_type": "code",
      "metadata": {
        "_uuid": "ad860887b31ba69dfe706ccd320b9cebe4fe931b",
        "id": "h8tUEHpbDgTc",
        "colab": {
          "base_uri": "https://localhost:8080/"
        },
        "outputId": "1111c7f4-8fa0-4730-8371-a1f09475299d"
      },
      "source": [
        "from sklearn.preprocessing import LabelEncoder, OneHotEncoder\n",
        "#Encode untuk data kategorikal pada kolom 'Country'\n",
        "labelencoder_X = LabelEncoder()\n",
        "X[:,0] = labelencoder_X.fit_transform(X[:,0])\n",
        "X[:,0]"
      ],
      "execution_count": null,
      "outputs": [
        {
          "output_type": "execute_result",
          "data": {
            "text/plain": [
              "array([24, 49, 13, 49, 13, 24, 49, 24, 13, 24, 49, 13, 24, 24, 49, 24, 49,\n",
              "       13, 49, 24, 13, 24, 49, 13, 24, 24, 49, 49, 33, 31, 32, 5, 1, 48,\n",
              "       47, 46, 0, 3, 2, 4, 6, 9, 41, 7, 8, 10, 11, 12, 14, 16, 17, 15, 18,\n",
              "       20, 19, 21, 22, 23, 25, 26, 27, 28, 29, 30, 34, 37, 36, 35, 38, 39,\n",
              "       40, 42, 43, 44, 45], dtype=object)"
            ]
          },
          "metadata": {},
          "execution_count": 16
        }
      ]
    },
    {
      "cell_type": "markdown",
      "metadata": {
        "_uuid": "5f745a4a68c5e1d90dc1537940af301e69d9c164",
        "id": "NYCo1WR7DgTd"
      },
      "source": [
        "Sekarang categorical value untuk kolom 'Country' dirbah ke dalam bentuk kategorikal\n",
        "\n",
        "| Country | Value |\n",
        "|:--------|:------|\n",
        "| China   |   0   |  \n",
        "| India   |   1   |   \n",
        "| Srilanka|   2   |   \n"
      ]
    },
    {
      "cell_type": "code",
      "metadata": {
        "id": "TUknCy7KDgTd",
        "colab": {
          "base_uri": "https://localhost:8080/"
        },
        "outputId": "487362bd-ef9a-48f4-ed62-e68d99198577"
      },
      "source": [
        "X"
      ],
      "execution_count": null,
      "outputs": [
        {
          "output_type": "execute_result",
          "data": {
            "text/plain": [
              "array([[24, 34.0, 92000.0],\n",
              "       [49, 22.0, 89700.0],\n",
              "       [13, 31.0, 74000.0],\n",
              "       [49, 29.0, 78900.0],\n",
              "       [13, 55.0, 98000.0],\n",
              "       [24, 24.0, 56790.0],\n",
              "       [49, 28.0, 90790.0],\n",
              "       [24, 50.0, 60000.0],\n",
              "       [13, 51.0, 89000.0],\n",
              "       [24, 44.0, 78000.0],\n",
              "       [49, 21.0, 98000.0],\n",
              "       [13, 25.0, 98087.0],\n",
              "       [24, 33.0, 45000.0],\n",
              "       [24, 42.0, 65000.0],\n",
              "       [49, 33.0, 22000.0],\n",
              "       [24, 34.0, 92000.0],\n",
              "       [49, 22.0, 25000.0],\n",
              "       [13, 31.0, 74000.0],\n",
              "       [49, 29.0, 78900.0],\n",
              "       [24, 50.0, 60000.0],\n",
              "       [13, 51.0, 89000.0],\n",
              "       [24, 44.0, 78000.0],\n",
              "       [49, 21.0, 87099.0],\n",
              "       [13, 25.0, 30000.0],\n",
              "       [24, 33.0, 45000.0],\n",
              "       [24, 42.0, 65000.0],\n",
              "       [49, 33.0, 22000.0],\n",
              "       [49, 29.0, 78900.0],\n",
              "       [33, 34.0, 92000.0],\n",
              "       [31, 22.0, 90700.0],\n",
              "       [32, 31.0, 74000.0],\n",
              "       [5, 29.0, 78900.0],\n",
              "       [1, 55.0, 98000.0],\n",
              "       [48, 24.0, 54000.0],\n",
              "       [47, 28.0, 98000.0],\n",
              "       [46, 50.0, 60000.0],\n",
              "       [0, 51.0, 89000.0],\n",
              "       [3, 44.0, 78000.0],\n",
              "       [2, 21.0, 56900.0],\n",
              "       [4, 25.0, 89070.0],\n",
              "       [6, 33.0, 97800.0],\n",
              "       [9, 42.0, 65000.0],\n",
              "       [41, 33.0, 98609.0],\n",
              "       [7, 34.0, 92000.0],\n",
              "       [8, 22.0, 96900.0],\n",
              "       [10, 31.0, 74000.0],\n",
              "       [11, 29.0, 78900.0],\n",
              "       [12, 50.0, 60000.0],\n",
              "       [14, 51.0, 89000.0],\n",
              "       [16, 44.0, 78000.0],\n",
              "       [17, 21.0, 87000.0],\n",
              "       [15, 25.0, 67800.0],\n",
              "       [18, 33.0, 90800.0],\n",
              "       [20, 42.0, 65000.0],\n",
              "       [19, 33.0, 98070.0],\n",
              "       [21, 29.0, 78900.0],\n",
              "       [22, 50.0, 98708.0],\n",
              "       [23, 56.0, 67890.0],\n",
              "       [25, 36.0, 56789.0],\n",
              "       [26, 65.0, 45678.0],\n",
              "       [27, 45.0, 34690.0],\n",
              "       [28, 54.0, 98754.0],\n",
              "       [29, 52.0, 87543.0],\n",
              "       [30, 52.0, 34567.0],\n",
              "       [34, 53.0, 24590.0],\n",
              "       [37, 28.0, 98706.0],\n",
              "       [36, 39.0, 76548.0],\n",
              "       [35, 51.0, 98743.0],\n",
              "       [38, 54.0, 97324.0],\n",
              "       [39, 53.0, 56784.0],\n",
              "       [40, 56.0, 89065.0],\n",
              "       [42, 46.0, 54329.0],\n",
              "       [43, 65.0, 54321.0],\n",
              "       [44, 45.0, 45670.0],\n",
              "       [45, 49.0, 76549.0]], dtype=object)"
            ]
          },
          "metadata": {},
          "execution_count": 17
        }
      ]
    },
    {
      "cell_type": "code",
      "metadata": {
        "_uuid": "614c26108b7dcd141f65bf14b67e178aee962f19",
        "id": "PUhumXRrDgTd",
        "colab": {
          "base_uri": "https://localhost:8080/"
        },
        "outputId": "921ea1a7-1bee-46e8-d4bb-fb84366156ea"
      },
      "source": [
        "#Encode untuk data kategorikal pada kolom 'Purchased'\n",
        "labelencoder_Y = LabelEncoder()\n",
        "Y = labelencoder_X.fit_transform(Y)\n",
        "Y"
      ],
      "execution_count": null,
      "outputs": [
        {
          "output_type": "execute_result",
          "data": {
            "text/plain": [
              "array([1, 1, 1, 1, 1, 1, 1, 1, 1, 1, 1, 1, 1, 1, 1, 1, 1, 1, 0, 0, 1, 1,\n",
              "       1, 1, 1, 1, 1, 1, 1, 1, 1, 1, 1, 1, 1, 1, 1, 1, 1, 1, 1, 1, 0, 1,\n",
              "       1, 1, 1, 1, 1, 1, 0, 1, 1, 1, 1, 0, 1, 1, 1, 1, 1, 1, 1, 1, 1, 1,\n",
              "       1, 1, 1, 0, 1, 0, 1, 0, 0])"
            ]
          },
          "metadata": {},
          "execution_count": 18
        }
      ]
    },
    {
      "cell_type": "markdown",
      "metadata": {
        "id": "AeeOnz_aDgTe"
      },
      "source": [
        "## 4. Splitting Dataset\n",
        "train_test_split : salah satu metode yang dapat digunakan untuk mengevaluasi performa model machine learning. Metode evaluasi model ini membagi dataset menjadi dua bagian yakni bagian yang digunakan untuk training data dan untuk testing data dengan proporsi tertentu."
      ]
    },
    {
      "cell_type": "code",
      "metadata": {
        "_uuid": "19b3d19ab1e4b1c1ff425d55b0eb79317bf7ab86",
        "id": "l9PCf4_jDgTe"
      },
      "source": [
        "\n",
        "from sklearn.model_selection import train_test_split\n",
        "\n",
        "X_train,X_test,Y_train,Y_test = train_test_split(X,Y,test_size = 0.2,random_state = 0)"
      ],
      "execution_count": null,
      "outputs": []
    },
    {
      "cell_type": "code",
      "metadata": {
        "_uuid": "780861983da7a12d75a1a3c7e6e03a1602d41c07",
        "scrolled": true,
        "id": "4hJ2rK3JDgTe",
        "colab": {
          "base_uri": "https://localhost:8080/"
        },
        "outputId": "2b603005-db88-40b3-a599-b8d83d2ec860"
      },
      "source": [
        "# Print the shape of the dataset\n",
        "print ('X_train:', (str(X_train.shape)))\n",
        "print ('----------------')\n",
        "print ('X_test:', (str(X_test.shape)))\n",
        "print ('----------------')\n",
        "print ('Y_train:', (str(Y_train.shape)))\n",
        "print ('----------------')\n",
        "print ('Y_test:', (str(Y_test.shape)))\n",
        "print ('----------------')"
      ],
      "execution_count": null,
      "outputs": [
        {
          "output_type": "stream",
          "name": "stdout",
          "text": [
            "X_train: (60, 3)\n",
            "----------------\n",
            "X_test: (15, 3)\n",
            "----------------\n",
            "Y_train: (60,)\n",
            "----------------\n",
            "Y_test: (15,)\n",
            "----------------\n"
          ]
        }
      ]
    },
    {
      "cell_type": "markdown",
      "metadata": {
        "_uuid": "0ef42f4efa7b7ed1f21966153a9a0de7a14d1d2e",
        "id": "QhgTOSOHDgTe"
      },
      "source": [
        "## 5. Scale your Features\n",
        " \n",
        "\n",
        "Dalam sebuah dataset, biasanya nilai pada tiap fitur mempunyai range yg berbeda. Hal ini dapat menjadikan masalah untuk\n",
        "beberapa model machine learning. Untuk itu kita harus melakukan scaling agar semua nilai pada fitur memiliki range yang sama. Pada kasus ini kita menggunakan StandardScaler\n",
        "      \n",
        "      "
      ]
    },
    {
      "cell_type": "code",
      "metadata": {
        "_uuid": "d7b0722d744c2da299c42cc2b6e50f6a21a87d20",
        "id": "sa0qU0GjDgTf"
      },
      "source": [
        "\n",
        "from sklearn.preprocessing import StandardScaler\n",
        "\n",
        "sc_X = StandardScaler()\n",
        "\n",
        "# We need to fit and transform the training set\n",
        "X_train = sc_X.fit_transform(X_train)\n",
        "\n",
        "# We need to fit the test set\n",
        "X_test = sc_X.transform(X_test)"
      ],
      "execution_count": null,
      "outputs": []
    },
    {
      "cell_type": "code",
      "metadata": {
        "_uuid": "19edd09629c93a036a69dbb5adc2fa526c1403db",
        "id": "QIQIb73MDgTf",
        "colab": {
          "base_uri": "https://localhost:8080/"
        },
        "outputId": "be8eba78-d289-41f7-f5d7-a1984fe91f06"
      },
      "source": [
        "X_train"
      ],
      "execution_count": null,
      "outputs": [
        {
          "output_type": "execute_result",
          "data": {
            "text/plain": [
              "array([[ 0.98072968,  1.47199898,  0.72447956],\n",
              "       [ 1.6001379 , -0.79261483,  0.25117857],\n",
              "       [-0.67102557,  0.46550395,  0.20927292],\n",
              "       [ 0.08602892,  0.54937854, -1.80731992],\n",
              "       [-0.25808676,  0.96875146,  1.17347528],\n",
              "       [ 1.6001379 , -0.87648942,  0.80479872],\n",
              "       [-0.60220244, -1.46361152,  0.62832938],\n",
              "       [ 0.84308341,  1.3042498 ,  1.10903371],\n",
              "       [-0.87749498,  1.38812439,  1.14050951],\n",
              "       [ 0.77426027, -0.87648942,  1.17338216],\n",
              "       [-0.80867184,  1.05262605,  0.72145304],\n",
              "       [-0.87749498, -0.62486566,  0.0230256 ],\n",
              "       [-1.08396438, -0.62486566,  0.0230256 ],\n",
              "       [ 0.22367519,  1.13650063,  0.65361246],\n",
              "       [-0.87749498, -1.12811318,  1.14456039],\n",
              "       [ 0.4301446 , -0.62486566,  0.0230256 ],\n",
              "       [ 1.6001379 , -0.79261483,  0.25117857],\n",
              "       [ 0.29249833,  1.13650063, -1.81304702],\n",
              "       [ 1.6001379 , -1.46361152,  1.14050951],\n",
              "       [-1.42808006, -0.79261483,  0.25117857],\n",
              "       [-1.63454947, -1.46361152, -0.77318168],\n",
              "       [-0.32690989, -0.79261483,  0.25117857],\n",
              "       [ 1.6001379 , -1.37973693,  0.75404632],\n",
              "       [-1.7033726 ,  1.38812439,  1.14050951],\n",
              "       [ 1.18719909,  2.22687025, -0.89326464],\n",
              "       [ 1.6001379 , -0.45711649, -2.39818953],\n",
              "       [ 1.04955282, -0.45711649,  1.16886566],\n",
              "       [-0.12044049,  0.96875146, -0.62884001],\n",
              "       [ 0.36132146, -1.37973693,  0.80060815],\n",
              "       [ 0.15485205,  1.3042498 ,  1.17561713],\n",
              "       [ 1.39366849,  0.96875146, -0.62884001],\n",
              "       [ 1.6001379 , -0.79261483,  0.25117857],\n",
              "       [-0.12044049, -0.37324191,  0.86113853],\n",
              "       [ 1.25602222,  0.54937854, -1.29607103],\n",
              "       [-0.12044049, -0.37324191,  0.86113853],\n",
              "       [-0.12044049, -1.21198776, -0.77830349],\n",
              "       [-0.39573303,  0.29775478, -0.39603086],\n",
              "       [ 1.6001379 , -1.37973693, -2.25850405],\n",
              "       [-0.73984871, -1.12811318, -0.26565774],\n",
              "       [-0.87749498,  1.05262605,  0.72145304],\n",
              "       [ 0.91190654,  1.22037522, -0.77858286],\n",
              "       [-0.87749498,  1.05262605,  0.72145304],\n",
              "       [-0.12044049,  0.29775478, -0.39603086],\n",
              "       [-0.12044049,  0.29775478, -0.39603086],\n",
              "       [-1.56572633,  0.46550395,  0.20927292],\n",
              "       [-0.87749498, -0.62486566,  0.0230256 ],\n",
              "       [-0.12044049, -0.45711649, -1.32726746],\n",
              "       [-1.01514125, -0.79261483,  0.25117857],\n",
              "       [-0.87749498, -1.12811318, -2.0256949 ],\n",
              "       [-1.4969032 , -1.12811318,  0.72471237],\n",
              "       [-0.05161735, -0.20549273, -0.77835005],\n",
              "       [-0.12044049, -0.45711649, -1.32726746],\n",
              "       [-1.77219574,  1.05262605,  0.72145304],\n",
              "       [-0.12044049,  0.46550395,  0.20927292],\n",
              "       [-0.12044049,  0.46550395,  0.20927292],\n",
              "       [ 1.11837595,  0.63325312, -0.89289215],\n",
              "       [ 0.636614  ,  1.05262605,  1.17510495],\n",
              "       [ 0.56779087,  1.22037522, -2.2775944 ],\n",
              "       [-0.94631811,  0.96875146, -0.62884001],\n",
              "       [-1.22161065, -1.37973693,  1.0892915 ]])"
            ]
          },
          "metadata": {},
          "execution_count": 22
        }
      ]
    },
    {
      "cell_type": "code",
      "metadata": {
        "_uuid": "047b9e920be562717de782098c416e0bcc6e9bd5",
        "id": "vcuThtHVDgTf",
        "colab": {
          "base_uri": "https://localhost:8080/"
        },
        "outputId": "63bd5100-3a33-475b-c786-e5072692ee0b"
      },
      "source": [
        "X_test"
      ],
      "execution_count": null,
      "outputs": [
        {
          "output_type": "execute_result",
          "data": {
            "text/plain": [
              "array([[-0.5333793 , -0.45711649,  0.80526434],\n",
              "       [-0.18926362,  1.47199898, -0.26146718],\n",
              "       [ 1.6001379 , -1.46361152,  0.63293901],\n",
              "       [ 1.32484536,  0.88487688,  0.1417117 ],\n",
              "       [ 0.49896773, -0.37324191,  0.86113853],\n",
              "       [ 1.6001379 , -0.45711649, -2.39818953],\n",
              "       [ 0.70543714,  0.04613102,  0.14166514],\n",
              "       [-0.46455616, -0.45711649,  1.14376884],\n",
              "       [ 1.46249163, -0.87648942,  1.14050951],\n",
              "       [-0.12044049,  0.96875146, -0.62884001],\n",
              "       [-1.29043379, -0.37324191,  0.86113853],\n",
              "       [ 0.01720578,  2.22687025, -1.29569853],\n",
              "       [-1.15278752,  0.29775478, -0.39603086],\n",
              "       [-1.35925692, -0.45711649,  1.13119714],\n",
              "       [ 1.53131476, -1.21198776, -0.90821099]])"
            ]
          },
          "metadata": {},
          "execution_count": 23
        }
      ]
    },
    {
      "cell_type": "markdown",
      "metadata": {
        "_uuid": "d884daf43f80af5c65844fbc763ea18c738890ec",
        "id": "6_KYgDteDgTg"
      },
      "source": [
        "Nah Sekarang semua data dalam fitur sudah berada dalam range yg sama, data ini bisa lgsg kita masukan kedalam model machine learning."
      ]
    },
    {
      "cell_type": "markdown",
      "metadata": {
        "id": "8QS_W9r-DgTg"
      },
      "source": [
        "Dalam percobaan kali ini kita akan mencoba memasukkan data kedalam model KNN.\n",
        "\n",
        "KNN : sebuah metode klasifikasi terhadap sekumpulan data berdasarkan pembelajaran  data yang sudah terklasifikasikan sebelumya"
      ]
    },
    {
      "cell_type": "code",
      "metadata": {
        "id": "PDmI-O_aDgTh",
        "colab": {
          "base_uri": "https://localhost:8080/"
        },
        "outputId": "db68f71b-2500-4a96-9217-6bbbf70f1841"
      },
      "source": [
        "from sklearn.neighbors import KNeighborsClassifier\n",
        "k = 3\n",
        "#Train Model and Predict  \n",
        "knn = KNeighborsClassifier(n_neighbors = k).fit(X_train,Y_train)\n",
        "knn"
      ],
      "execution_count": null,
      "outputs": [
        {
          "output_type": "execute_result",
          "data": {
            "text/plain": [
              "KNeighborsClassifier(algorithm='auto', leaf_size=30, metric='minkowski',\n",
              "                     metric_params=None, n_jobs=None, n_neighbors=3, p=2,\n",
              "                     weights='uniform')"
            ]
          },
          "metadata": {},
          "execution_count": 24
        }
      ]
    },
    {
      "cell_type": "code",
      "metadata": {
        "id": "NBWKMc1nDgTi"
      },
      "source": [
        "y_predict = knn.predict(X_test)"
      ],
      "execution_count": null,
      "outputs": []
    },
    {
      "cell_type": "code",
      "metadata": {
        "id": "iZPcihqLDgTi",
        "colab": {
          "base_uri": "https://localhost:8080/"
        },
        "outputId": "23ed9d05-73c1-46cc-86df-869e44a9955b"
      },
      "source": [
        "from sklearn import metrics\n",
        "print(\"Test set Accuracy: \", metrics.accuracy_score(Y_test, y_predict))"
      ],
      "execution_count": null,
      "outputs": [
        {
          "output_type": "stream",
          "name": "stdout",
          "text": [
            "Test set Accuracy:  0.9333333333333333\n"
          ]
        }
      ]
    },
    {
      "cell_type": "markdown",
      "metadata": {
        "id": "O9tPwGItDgTi"
      },
      "source": [
        "Dalam hal ini kita hanya mendapat akurasi 93%, ini terhitung kecil. ini bisa disebabkan karena data yg kita punya hanyaa sedikit. "
      ]
    },
    {
      "cell_type": "markdown",
      "metadata": {
        "id": "FkSfy-Jg2_Vl"
      },
      "source": [
        "**Thanks You**"
      ]
    }
  ]
}